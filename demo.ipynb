{
  "cells": [
    {
      "cell_type": "markdown",
      "metadata": {
        "colab_type": "text",
        "id": "view-in-github"
      },
      "source": [
        "<a href=\"https://colab.research.google.com/github/niconielsen32/ObjectTracking/blob/main/ObjectTracking.ipynb\" target=\"_parent\"><img src=\"https://colab.research.google.com/assets/colab-badge.svg\" alt=\"Open In Colab\"/></a>"
      ]
    },
    {
      "cell_type": "markdown",
      "metadata": {
        "id": "xvrJ_qEoLB1I"
      },
      "source": [
        "# Get the requirements"
      ]
    },
    {
      "cell_type": "code",
      "execution_count": null,
      "metadata": {
        "id": "uPEYZ19RBqMK"
      },
      "outputs": [],
      "source": [
        "!pip install tf-centernet"
      ]
    },
    {
      "cell_type": "code",
      "execution_count": null,
      "metadata": {
        "id": "-JEJGEElvy6Y"
      },
      "outputs": [],
      "source": [
        "\n",
        "!pip install -r D:\\Python\\Projects\\Ak\\Akproj\\requirements.txt"
      ]
    },
    {
      "cell_type": "markdown",
      "metadata": {
        "id": "ZGPuWv0jvqTs"
      },
      "source": [
        "# Object Tracking"
      ]
    },
    {
      "cell_type": "code",
      "execution_count": null,
      "metadata": {
        "id": "qz-nGJr_Bq1u"
      },
      "outputs": [],
      "source": [
        "import sys\n",
        "import os\n",
        "import centernet\n",
        "\n",
        "from sort import Sort\n",
        "from lib import VisTrack, show_video, create_video\n",
        "\n",
        "import numpy as np\n",
        "import PIL.Image\n",
        "import cv2\n",
        "import matplotlib.pyplot as plt\n",
        "from tqdm.auto import tqdm\n",
        "import shutil"
      ]
    },
    {
      "cell_type": "code",
      "execution_count": null,
      "metadata": {
        "colab": {
          "base_uri": "https://localhost:8080/"
        },
        "id": "NpxKfBbUBzFH",
        "outputId": "b710855d-bfe1-4f97-a220-ffe3d4b37307"
      },
      "outputs": [],
      "source": [
        "vt = VisTrack()\n",
        "\n",
        "# Default: num_classes=80\n",
        "obj = centernet.ObjectDetection(num_classes=80)\n",
        "\n",
        "# num_classes=80 and weights_path=None: Pre-trained COCO model will be loaded.\n",
        "obj.load_weights(weights_path=None)"
      ]
    },
    {
      "cell_type": "markdown",
      "metadata": {
        "id": "3y9-GSrJTV73"
      },
      "source": [
        "## Predict on image"
      ]
    },
    {
      "cell_type": "code",
      "execution_count": null,
      "metadata": {
        "colab": {
          "base_uri": "https://localhost:8080/",
          "height": 974
        },
        "id": "tCqW4fXvCTeM",
        "outputId": "229fdf94-8334-4c21-bf7b-a0cd48e5b0be"
      },
      "outputs": [],
      "source": [
        "\n",
        "p_img = PIL.Image.open('D:\\Python\\Projects\\Ak\\Akproj\\people.jpg')\n",
        "img = cv2.cvtColor(np.array(p_img), cv2.COLOR_BGR2RGB)\n",
        "\n",
        "boxes, classes, scores = obj.predict(img)\n",
        "\n",
        "vt.draw_bounding_boxes(p_img, boxes, classes, scores)"
      ]
    },
    {
      "cell_type": "markdown",
      "metadata": {
        "id": "TMzvaGfcTQGg"
      },
      "source": [
        "## Predict on live video"
      ]
    },
    {
      "cell_type": "code",
      "execution_count": null,
      "metadata": {},
      "outputs": [],
      "source": [
        "vidcap = cv2.VideoCapture(0)\n",
        "\n",
        "# Create the SORT tracker\n",
        "sort = Sort(max_age=1, min_hits=3, iou_threshold=0.3)\n",
        "\n",
        "# Create a window to display the output frame\n",
        "cv2.namedWindow(\"Object Tracking\", cv2.WINDOW_NORMAL)\n",
        "\n",
        "folder_out = \"Track\"\n",
        "if os.path.exists(folder_out):\n",
        "    shutil.rmtree(folder_out)\n",
        "os.makedirs(folder_out)\n",
        "\n",
        "# Counter for frame numbering\n",
        "i = 0\n",
        "\n",
        "# Capture frames from the camera\n",
        "while True:\n",
        "    ret, frame = vidcap.read()\n",
        "    if not ret:\n",
        "        break\n",
        "\n",
        "    boxes, classes, scores = obj.predict(frame)  # Assuming 'obj' is defined for object detection\n",
        "\n",
        "    detections_in_frame = len(boxes)\n",
        "    if detections_in_frame:\n",
        "        # centernet will do detection on all the COCO classes. \"person\" is class number 0 \n",
        "        idxs = np.where(classes == 0)[0]\n",
        "        boxes = boxes[idxs]\n",
        "        scores = scores[idxs]\n",
        "        classes = classes[idxs]\n",
        "    else:\n",
        "        boxes = np.empty((0, 5))\n",
        "\n",
        "    dets = np.hstack((boxes, scores[:, np.newaxis]))\n",
        "    res = sort.update(dets)\n",
        "\n",
        "    boxes_track = res[:, :-1]\n",
        "    boxes_ids = res[:, -1].astype(int)\n",
        "\n",
        "    # Convert the frame to a PIL Image\n",
        "    p_frame = PIL.Image.fromarray(cv2.cvtColor(frame, cv2.COLOR_BGR2RGB))\n",
        "\n",
        "    if detections_in_frame:\n",
        "        # Assuming 'vt.draw_bounding_boxes' is defined for drawing bounding boxes\n",
        "        p_frame = vt.draw_bounding_boxes(p_frame, boxes_track, boxes_ids, scores)\n",
        "\n",
        "    # Save the frame as an image\n",
        "    p_frame.save(os.path.join(folder_out, f\"{i:03d}.png\"))\n",
        "\n",
        "    # Convert the PIL Image back to a NumPy array for display\n",
        "    frame_display = cv2.cvtColor(np.array(p_frame), cv2.COLOR_RGB2BGR)\n",
        "\n",
        "    # Display the frame in the window\n",
        "    cv2.imshow(\"Object Tracking\", frame_display)\n",
        "\n",
        "    i += 1\n",
        "\n",
        "    # Check for the 'q' key to exit the loop and close the window\n",
        "    if cv2.waitKey(1) & 0xFF == ord('q'):\n",
        "        break\n",
        "\n",
        "# Release the video capture and close the window\n",
        "vidcap.release()\n",
        "cv2.destroyAllWindows()"
      ]
    },
    {
      "cell_type": "markdown",
      "metadata": {
        "id": "2oMqRKm8YCb8"
      },
      "source": [
        "## Tracking video output"
      ]
    },
    {
      "cell_type": "code",
      "execution_count": null,
      "metadata": {
        "id": "ImBi0alCyKnH"
      },
      "outputs": [],
      "source": [
        "\n",
        "\n",
        "track_video_file = 'tracking.mp4'\n",
        "create_video(frames_pattern='Track/%03d.png', video_file=track_video_file, framerate=30)\n",
        "\n"
      ]
    }
  ],
  "metadata": {
    "accelerator": "GPU",
    "colab": {
      "collapsed_sections": [],
      "include_colab_link": true,
      "name": "ObjectTracking.ipynb",
      "provenance": []
    },
    "kernelspec": {
      "display_name": "Python 3",
      "name": "python3"
    },
    "language_info": {
      "codemirror_mode": {
        "name": "ipython",
        "version": 3
      },
      "file_extension": ".py",
      "mimetype": "text/x-python",
      "name": "python",
      "nbconvert_exporter": "python",
      "pygments_lexer": "ipython3",
      "version": "3.10.11"
    },
    "widgets": {
      "application/vnd.jupyter.widget-state+json": {
        "1375a8abd0cd49c2bb038a6815cf8d5f": {
          "model_module": "@jupyter-widgets/controls",
          "model_module_version": "1.5.0",
          "model_name": "FloatProgressModel",
          "state": {
            "_dom_classes": [],
            "_model_module": "@jupyter-widgets/controls",
            "_model_module_version": "1.5.0",
            "_model_name": "FloatProgressModel",
            "_view_count": null,
            "_view_module": "@jupyter-widgets/controls",
            "_view_module_version": "1.5.0",
            "_view_name": "ProgressView",
            "bar_style": "",
            "description": "100%",
            "description_tooltip": null,
            "layout": "IPY_MODEL_83ee0bc3ba6244ad98a06eef1903329e",
            "max": 584,
            "min": 0,
            "orientation": "horizontal",
            "style": "IPY_MODEL_ca58ec85f2da4bc5b86c7971ed72eaf2",
            "value": 584
          }
        },
        "83ee0bc3ba6244ad98a06eef1903329e": {
          "model_module": "@jupyter-widgets/base",
          "model_module_version": "1.2.0",
          "model_name": "LayoutModel",
          "state": {
            "_model_module": "@jupyter-widgets/base",
            "_model_module_version": "1.2.0",
            "_model_name": "LayoutModel",
            "_view_count": null,
            "_view_module": "@jupyter-widgets/base",
            "_view_module_version": "1.2.0",
            "_view_name": "LayoutView",
            "align_content": null,
            "align_items": null,
            "align_self": null,
            "border": null,
            "bottom": null,
            "display": null,
            "flex": null,
            "flex_flow": null,
            "grid_area": null,
            "grid_auto_columns": null,
            "grid_auto_flow": null,
            "grid_auto_rows": null,
            "grid_column": null,
            "grid_gap": null,
            "grid_row": null,
            "grid_template_areas": null,
            "grid_template_columns": null,
            "grid_template_rows": null,
            "height": null,
            "justify_content": null,
            "justify_items": null,
            "left": null,
            "margin": null,
            "max_height": null,
            "max_width": null,
            "min_height": null,
            "min_width": null,
            "object_fit": null,
            "object_position": null,
            "order": null,
            "overflow": null,
            "overflow_x": null,
            "overflow_y": null,
            "padding": null,
            "right": null,
            "top": null,
            "visibility": null,
            "width": null
          }
        },
        "894f375aec6749178b029c943741b961": {
          "model_module": "@jupyter-widgets/controls",
          "model_module_version": "1.5.0",
          "model_name": "HTMLModel",
          "state": {
            "_dom_classes": [],
            "_model_module": "@jupyter-widgets/controls",
            "_model_module_version": "1.5.0",
            "_model_name": "HTMLModel",
            "_view_count": null,
            "_view_module": "@jupyter-widgets/controls",
            "_view_module_version": "1.5.0",
            "_view_name": "HTMLView",
            "description": "",
            "description_tooltip": null,
            "layout": "IPY_MODEL_c6b2bc6a95ee4f5d80fd87a9e41db49d",
            "placeholder": "​",
            "style": "IPY_MODEL_f3ccc79e92fe4c2986953c5fc9dde2c3",
            "value": " 584/584 [05:41&lt;00:00,  1.66it/s]"
          }
        },
        "b62703e80c4849f58ea605f5a822bec6": {
          "model_module": "@jupyter-widgets/base",
          "model_module_version": "1.2.0",
          "model_name": "LayoutModel",
          "state": {
            "_model_module": "@jupyter-widgets/base",
            "_model_module_version": "1.2.0",
            "_model_name": "LayoutModel",
            "_view_count": null,
            "_view_module": "@jupyter-widgets/base",
            "_view_module_version": "1.2.0",
            "_view_name": "LayoutView",
            "align_content": null,
            "align_items": null,
            "align_self": null,
            "border": null,
            "bottom": null,
            "display": null,
            "flex": null,
            "flex_flow": null,
            "grid_area": null,
            "grid_auto_columns": null,
            "grid_auto_flow": null,
            "grid_auto_rows": null,
            "grid_column": null,
            "grid_gap": null,
            "grid_row": null,
            "grid_template_areas": null,
            "grid_template_columns": null,
            "grid_template_rows": null,
            "height": null,
            "justify_content": null,
            "justify_items": null,
            "left": null,
            "margin": null,
            "max_height": null,
            "max_width": null,
            "min_height": null,
            "min_width": null,
            "object_fit": null,
            "object_position": null,
            "order": null,
            "overflow": null,
            "overflow_x": null,
            "overflow_y": null,
            "padding": null,
            "right": null,
            "top": null,
            "visibility": null,
            "width": null
          }
        },
        "bf3b7ca1e96243e1a1727c9acbaffd27": {
          "model_module": "@jupyter-widgets/controls",
          "model_module_version": "1.5.0",
          "model_name": "HBoxModel",
          "state": {
            "_dom_classes": [],
            "_model_module": "@jupyter-widgets/controls",
            "_model_module_version": "1.5.0",
            "_model_name": "HBoxModel",
            "_view_count": null,
            "_view_module": "@jupyter-widgets/controls",
            "_view_module_version": "1.5.0",
            "_view_name": "HBoxView",
            "box_style": "",
            "children": [
              "IPY_MODEL_1375a8abd0cd49c2bb038a6815cf8d5f",
              "IPY_MODEL_894f375aec6749178b029c943741b961"
            ],
            "layout": "IPY_MODEL_b62703e80c4849f58ea605f5a822bec6"
          }
        },
        "c6b2bc6a95ee4f5d80fd87a9e41db49d": {
          "model_module": "@jupyter-widgets/base",
          "model_module_version": "1.2.0",
          "model_name": "LayoutModel",
          "state": {
            "_model_module": "@jupyter-widgets/base",
            "_model_module_version": "1.2.0",
            "_model_name": "LayoutModel",
            "_view_count": null,
            "_view_module": "@jupyter-widgets/base",
            "_view_module_version": "1.2.0",
            "_view_name": "LayoutView",
            "align_content": null,
            "align_items": null,
            "align_self": null,
            "border": null,
            "bottom": null,
            "display": null,
            "flex": null,
            "flex_flow": null,
            "grid_area": null,
            "grid_auto_columns": null,
            "grid_auto_flow": null,
            "grid_auto_rows": null,
            "grid_column": null,
            "grid_gap": null,
            "grid_row": null,
            "grid_template_areas": null,
            "grid_template_columns": null,
            "grid_template_rows": null,
            "height": null,
            "justify_content": null,
            "justify_items": null,
            "left": null,
            "margin": null,
            "max_height": null,
            "max_width": null,
            "min_height": null,
            "min_width": null,
            "object_fit": null,
            "object_position": null,
            "order": null,
            "overflow": null,
            "overflow_x": null,
            "overflow_y": null,
            "padding": null,
            "right": null,
            "top": null,
            "visibility": null,
            "width": null
          }
        },
        "ca58ec85f2da4bc5b86c7971ed72eaf2": {
          "model_module": "@jupyter-widgets/controls",
          "model_module_version": "1.5.0",
          "model_name": "ProgressStyleModel",
          "state": {
            "_model_module": "@jupyter-widgets/controls",
            "_model_module_version": "1.5.0",
            "_model_name": "ProgressStyleModel",
            "_view_count": null,
            "_view_module": "@jupyter-widgets/base",
            "_view_module_version": "1.2.0",
            "_view_name": "StyleView",
            "bar_color": null,
            "description_width": "initial"
          }
        },
        "f3ccc79e92fe4c2986953c5fc9dde2c3": {
          "model_module": "@jupyter-widgets/controls",
          "model_module_version": "1.5.0",
          "model_name": "DescriptionStyleModel",
          "state": {
            "_model_module": "@jupyter-widgets/controls",
            "_model_module_version": "1.5.0",
            "_model_name": "DescriptionStyleModel",
            "_view_count": null,
            "_view_module": "@jupyter-widgets/base",
            "_view_module_version": "1.2.0",
            "_view_name": "StyleView",
            "description_width": ""
          }
        }
      }
    }
  },
  "nbformat": 4,
  "nbformat_minor": 0
}
